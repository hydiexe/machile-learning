{
  "nbformat": 4,
  "nbformat_minor": 0,
  "metadata": {
    "colab": {
      "provenance": [],
      "authorship_tag": "ABX9TyNDGJgEkeR3izy3c3rv8iaH",
      "include_colab_link": true
    },
    "kernelspec": {
      "name": "python3",
      "display_name": "Python 3"
    },
    "language_info": {
      "name": "python"
    }
  },
  "cells": [
    {
      "cell_type": "markdown",
      "metadata": {
        "id": "view-in-github",
        "colab_type": "text"
      },
      "source": [
        "<a href=\"https://colab.research.google.com/github/hydiexe/machile-learning/blob/main/ML_PCAipynb.ipynb\" target=\"_parent\"><img src=\"https://colab.research.google.com/assets/colab-badge.svg\" alt=\"Open In Colab\"/></a>"
      ]
    },
    {
      "cell_type": "code",
      "execution_count": 73,
      "metadata": {
        "id": "tPz19pgWHFgW"
      },
      "outputs": [],
      "source": [
        "import numpy as np\n",
        "import pandas as pd"
      ]
    },
    {
      "cell_type": "code",
      "source": [
        "df = pd.read_csv('https://raw.githubusercontent.com/febbisena/DataMining/main/Blood_samples_dataset.csv')\n",
        "df.head()"
      ],
      "metadata": {
        "colab": {
          "base_uri": "https://localhost:8080/",
          "height": 288
        },
        "collapsed": true,
        "id": "rN4M3Y6NIYhq",
        "outputId": "91717553-2b92-41c7-b58d-647b91d09e9a"
      },
      "execution_count": 74,
      "outputs": [
        {
          "output_type": "execute_result",
          "data": {
            "text/plain": [
              "    Glucose  Cholesterol  Hemoglobin  Platelets  White Blood Cells  \\\n",
              "0  0.739597     0.650198    0.713631   0.868491           0.687433   \n",
              "1  0.121786     0.023058    0.944893   0.905372           0.507711   \n",
              "2  0.452539     0.116135    0.544560   0.400640           0.294538   \n",
              "3  0.136609     0.015605    0.419957   0.191487           0.081168   \n",
              "4  0.176737     0.752220    0.971779   0.785286           0.443880   \n",
              "\n",
              "   Red Blood Cells  Hematocrit  Mean Corpuscular Volume  \\\n",
              "0         0.529895    0.290006                 0.631045   \n",
              "1         0.403033    0.164216                 0.307553   \n",
              "2         0.382021    0.625267                 0.295122   \n",
              "3         0.166214    0.073293                 0.668719   \n",
              "4         0.439851    0.894991                 0.442159   \n",
              "\n",
              "   Mean Corpuscular Hemoglobin  Mean Corpuscular Hemoglobin Concentration  \\\n",
              "0                     0.001328                                   0.795829   \n",
              "1                     0.207938                                   0.505562   \n",
              "2                     0.868369                                   0.026808   \n",
              "3                     0.125447                                   0.501051   \n",
              "4                     0.257288                                   0.805987   \n",
              "\n",
              "   ...     HbA1c  LDL Cholesterol  HDL Cholesterol       ALT       AST  \\\n",
              "0  ...  0.502665         0.215560         0.512941  0.064187  0.610827   \n",
              "1  ...  0.856810         0.652465         0.106961  0.942549  0.344261   \n",
              "2  ...  0.466795         0.387332         0.421763  0.007186  0.506918   \n",
              "3  ...  0.016256         0.040137         0.826721  0.265415  0.594148   \n",
              "4  ...  0.429431         0.146294         0.221574  0.015280  0.567115   \n",
              "\n",
              "   Heart Rate  Creatinine  Troponin  C-reactive Protein   Disease  \n",
              "0    0.939485    0.095512  0.465957            0.769230   Healthy  \n",
              "1    0.666368    0.659060  0.816982            0.401166  Diabetes  \n",
              "2    0.431704    0.417295  0.799074            0.779208  Thalasse  \n",
              "3    0.225756    0.490349  0.637061            0.354094    Anemia  \n",
              "4    0.841412    0.153350  0.794008            0.094970  Thalasse  \n",
              "\n",
              "[5 rows x 25 columns]"
            ],
            "text/html": [
              "\n",
              "  <div id=\"df-ffb35d93-5b27-46a8-9306-63db24d218bb\" class=\"colab-df-container\">\n",
              "    <div>\n",
              "<style scoped>\n",
              "    .dataframe tbody tr th:only-of-type {\n",
              "        vertical-align: middle;\n",
              "    }\n",
              "\n",
              "    .dataframe tbody tr th {\n",
              "        vertical-align: top;\n",
              "    }\n",
              "\n",
              "    .dataframe thead th {\n",
              "        text-align: right;\n",
              "    }\n",
              "</style>\n",
              "<table border=\"1\" class=\"dataframe\">\n",
              "  <thead>\n",
              "    <tr style=\"text-align: right;\">\n",
              "      <th></th>\n",
              "      <th>Glucose</th>\n",
              "      <th>Cholesterol</th>\n",
              "      <th>Hemoglobin</th>\n",
              "      <th>Platelets</th>\n",
              "      <th>White Blood Cells</th>\n",
              "      <th>Red Blood Cells</th>\n",
              "      <th>Hematocrit</th>\n",
              "      <th>Mean Corpuscular Volume</th>\n",
              "      <th>Mean Corpuscular Hemoglobin</th>\n",
              "      <th>Mean Corpuscular Hemoglobin Concentration</th>\n",
              "      <th>...</th>\n",
              "      <th>HbA1c</th>\n",
              "      <th>LDL Cholesterol</th>\n",
              "      <th>HDL Cholesterol</th>\n",
              "      <th>ALT</th>\n",
              "      <th>AST</th>\n",
              "      <th>Heart Rate</th>\n",
              "      <th>Creatinine</th>\n",
              "      <th>Troponin</th>\n",
              "      <th>C-reactive Protein</th>\n",
              "      <th>Disease</th>\n",
              "    </tr>\n",
              "  </thead>\n",
              "  <tbody>\n",
              "    <tr>\n",
              "      <th>0</th>\n",
              "      <td>0.739597</td>\n",
              "      <td>0.650198</td>\n",
              "      <td>0.713631</td>\n",
              "      <td>0.868491</td>\n",
              "      <td>0.687433</td>\n",
              "      <td>0.529895</td>\n",
              "      <td>0.290006</td>\n",
              "      <td>0.631045</td>\n",
              "      <td>0.001328</td>\n",
              "      <td>0.795829</td>\n",
              "      <td>...</td>\n",
              "      <td>0.502665</td>\n",
              "      <td>0.215560</td>\n",
              "      <td>0.512941</td>\n",
              "      <td>0.064187</td>\n",
              "      <td>0.610827</td>\n",
              "      <td>0.939485</td>\n",
              "      <td>0.095512</td>\n",
              "      <td>0.465957</td>\n",
              "      <td>0.769230</td>\n",
              "      <td>Healthy</td>\n",
              "    </tr>\n",
              "    <tr>\n",
              "      <th>1</th>\n",
              "      <td>0.121786</td>\n",
              "      <td>0.023058</td>\n",
              "      <td>0.944893</td>\n",
              "      <td>0.905372</td>\n",
              "      <td>0.507711</td>\n",
              "      <td>0.403033</td>\n",
              "      <td>0.164216</td>\n",
              "      <td>0.307553</td>\n",
              "      <td>0.207938</td>\n",
              "      <td>0.505562</td>\n",
              "      <td>...</td>\n",
              "      <td>0.856810</td>\n",
              "      <td>0.652465</td>\n",
              "      <td>0.106961</td>\n",
              "      <td>0.942549</td>\n",
              "      <td>0.344261</td>\n",
              "      <td>0.666368</td>\n",
              "      <td>0.659060</td>\n",
              "      <td>0.816982</td>\n",
              "      <td>0.401166</td>\n",
              "      <td>Diabetes</td>\n",
              "    </tr>\n",
              "    <tr>\n",
              "      <th>2</th>\n",
              "      <td>0.452539</td>\n",
              "      <td>0.116135</td>\n",
              "      <td>0.544560</td>\n",
              "      <td>0.400640</td>\n",
              "      <td>0.294538</td>\n",
              "      <td>0.382021</td>\n",
              "      <td>0.625267</td>\n",
              "      <td>0.295122</td>\n",
              "      <td>0.868369</td>\n",
              "      <td>0.026808</td>\n",
              "      <td>...</td>\n",
              "      <td>0.466795</td>\n",
              "      <td>0.387332</td>\n",
              "      <td>0.421763</td>\n",
              "      <td>0.007186</td>\n",
              "      <td>0.506918</td>\n",
              "      <td>0.431704</td>\n",
              "      <td>0.417295</td>\n",
              "      <td>0.799074</td>\n",
              "      <td>0.779208</td>\n",
              "      <td>Thalasse</td>\n",
              "    </tr>\n",
              "    <tr>\n",
              "      <th>3</th>\n",
              "      <td>0.136609</td>\n",
              "      <td>0.015605</td>\n",
              "      <td>0.419957</td>\n",
              "      <td>0.191487</td>\n",
              "      <td>0.081168</td>\n",
              "      <td>0.166214</td>\n",
              "      <td>0.073293</td>\n",
              "      <td>0.668719</td>\n",
              "      <td>0.125447</td>\n",
              "      <td>0.501051</td>\n",
              "      <td>...</td>\n",
              "      <td>0.016256</td>\n",
              "      <td>0.040137</td>\n",
              "      <td>0.826721</td>\n",
              "      <td>0.265415</td>\n",
              "      <td>0.594148</td>\n",
              "      <td>0.225756</td>\n",
              "      <td>0.490349</td>\n",
              "      <td>0.637061</td>\n",
              "      <td>0.354094</td>\n",
              "      <td>Anemia</td>\n",
              "    </tr>\n",
              "    <tr>\n",
              "      <th>4</th>\n",
              "      <td>0.176737</td>\n",
              "      <td>0.752220</td>\n",
              "      <td>0.971779</td>\n",
              "      <td>0.785286</td>\n",
              "      <td>0.443880</td>\n",
              "      <td>0.439851</td>\n",
              "      <td>0.894991</td>\n",
              "      <td>0.442159</td>\n",
              "      <td>0.257288</td>\n",
              "      <td>0.805987</td>\n",
              "      <td>...</td>\n",
              "      <td>0.429431</td>\n",
              "      <td>0.146294</td>\n",
              "      <td>0.221574</td>\n",
              "      <td>0.015280</td>\n",
              "      <td>0.567115</td>\n",
              "      <td>0.841412</td>\n",
              "      <td>0.153350</td>\n",
              "      <td>0.794008</td>\n",
              "      <td>0.094970</td>\n",
              "      <td>Thalasse</td>\n",
              "    </tr>\n",
              "  </tbody>\n",
              "</table>\n",
              "<p>5 rows × 25 columns</p>\n",
              "</div>\n",
              "    <div class=\"colab-df-buttons\">\n",
              "\n",
              "  <div class=\"colab-df-container\">\n",
              "    <button class=\"colab-df-convert\" onclick=\"convertToInteractive('df-ffb35d93-5b27-46a8-9306-63db24d218bb')\"\n",
              "            title=\"Convert this dataframe to an interactive table.\"\n",
              "            style=\"display:none;\">\n",
              "\n",
              "  <svg xmlns=\"http://www.w3.org/2000/svg\" height=\"24px\" viewBox=\"0 -960 960 960\">\n",
              "    <path d=\"M120-120v-720h720v720H120Zm60-500h600v-160H180v160Zm220 220h160v-160H400v160Zm0 220h160v-160H400v160ZM180-400h160v-160H180v160Zm440 0h160v-160H620v160ZM180-180h160v-160H180v160Zm440 0h160v-160H620v160Z\"/>\n",
              "  </svg>\n",
              "    </button>\n",
              "\n",
              "  <style>\n",
              "    .colab-df-container {\n",
              "      display:flex;\n",
              "      gap: 12px;\n",
              "    }\n",
              "\n",
              "    .colab-df-convert {\n",
              "      background-color: #E8F0FE;\n",
              "      border: none;\n",
              "      border-radius: 50%;\n",
              "      cursor: pointer;\n",
              "      display: none;\n",
              "      fill: #1967D2;\n",
              "      height: 32px;\n",
              "      padding: 0 0 0 0;\n",
              "      width: 32px;\n",
              "    }\n",
              "\n",
              "    .colab-df-convert:hover {\n",
              "      background-color: #E2EBFA;\n",
              "      box-shadow: 0px 1px 2px rgba(60, 64, 67, 0.3), 0px 1px 3px 1px rgba(60, 64, 67, 0.15);\n",
              "      fill: #174EA6;\n",
              "    }\n",
              "\n",
              "    .colab-df-buttons div {\n",
              "      margin-bottom: 4px;\n",
              "    }\n",
              "\n",
              "    [theme=dark] .colab-df-convert {\n",
              "      background-color: #3B4455;\n",
              "      fill: #D2E3FC;\n",
              "    }\n",
              "\n",
              "    [theme=dark] .colab-df-convert:hover {\n",
              "      background-color: #434B5C;\n",
              "      box-shadow: 0px 1px 3px 1px rgba(0, 0, 0, 0.15);\n",
              "      filter: drop-shadow(0px 1px 2px rgba(0, 0, 0, 0.3));\n",
              "      fill: #FFFFFF;\n",
              "    }\n",
              "  </style>\n",
              "\n",
              "    <script>\n",
              "      const buttonEl =\n",
              "        document.querySelector('#df-ffb35d93-5b27-46a8-9306-63db24d218bb button.colab-df-convert');\n",
              "      buttonEl.style.display =\n",
              "        google.colab.kernel.accessAllowed ? 'block' : 'none';\n",
              "\n",
              "      async function convertToInteractive(key) {\n",
              "        const element = document.querySelector('#df-ffb35d93-5b27-46a8-9306-63db24d218bb');\n",
              "        const dataTable =\n",
              "          await google.colab.kernel.invokeFunction('convertToInteractive',\n",
              "                                                    [key], {});\n",
              "        if (!dataTable) return;\n",
              "\n",
              "        const docLinkHtml = 'Like what you see? Visit the ' +\n",
              "          '<a target=\"_blank\" href=https://colab.research.google.com/notebooks/data_table.ipynb>data table notebook</a>'\n",
              "          + ' to learn more about interactive tables.';\n",
              "        element.innerHTML = '';\n",
              "        dataTable['output_type'] = 'display_data';\n",
              "        await google.colab.output.renderOutput(dataTable, element);\n",
              "        const docLink = document.createElement('div');\n",
              "        docLink.innerHTML = docLinkHtml;\n",
              "        element.appendChild(docLink);\n",
              "      }\n",
              "    </script>\n",
              "  </div>\n",
              "\n",
              "\n",
              "<div id=\"df-a6eed453-55b0-481d-afed-26800e765982\">\n",
              "  <button class=\"colab-df-quickchart\" onclick=\"quickchart('df-a6eed453-55b0-481d-afed-26800e765982')\"\n",
              "            title=\"Suggest charts\"\n",
              "            style=\"display:none;\">\n",
              "\n",
              "<svg xmlns=\"http://www.w3.org/2000/svg\" height=\"24px\"viewBox=\"0 0 24 24\"\n",
              "     width=\"24px\">\n",
              "    <g>\n",
              "        <path d=\"M19 3H5c-1.1 0-2 .9-2 2v14c0 1.1.9 2 2 2h14c1.1 0 2-.9 2-2V5c0-1.1-.9-2-2-2zM9 17H7v-7h2v7zm4 0h-2V7h2v10zm4 0h-2v-4h2v4z\"/>\n",
              "    </g>\n",
              "</svg>\n",
              "  </button>\n",
              "\n",
              "<style>\n",
              "  .colab-df-quickchart {\n",
              "      --bg-color: #E8F0FE;\n",
              "      --fill-color: #1967D2;\n",
              "      --hover-bg-color: #E2EBFA;\n",
              "      --hover-fill-color: #174EA6;\n",
              "      --disabled-fill-color: #AAA;\n",
              "      --disabled-bg-color: #DDD;\n",
              "  }\n",
              "\n",
              "  [theme=dark] .colab-df-quickchart {\n",
              "      --bg-color: #3B4455;\n",
              "      --fill-color: #D2E3FC;\n",
              "      --hover-bg-color: #434B5C;\n",
              "      --hover-fill-color: #FFFFFF;\n",
              "      --disabled-bg-color: #3B4455;\n",
              "      --disabled-fill-color: #666;\n",
              "  }\n",
              "\n",
              "  .colab-df-quickchart {\n",
              "    background-color: var(--bg-color);\n",
              "    border: none;\n",
              "    border-radius: 50%;\n",
              "    cursor: pointer;\n",
              "    display: none;\n",
              "    fill: var(--fill-color);\n",
              "    height: 32px;\n",
              "    padding: 0;\n",
              "    width: 32px;\n",
              "  }\n",
              "\n",
              "  .colab-df-quickchart:hover {\n",
              "    background-color: var(--hover-bg-color);\n",
              "    box-shadow: 0 1px 2px rgba(60, 64, 67, 0.3), 0 1px 3px 1px rgba(60, 64, 67, 0.15);\n",
              "    fill: var(--button-hover-fill-color);\n",
              "  }\n",
              "\n",
              "  .colab-df-quickchart-complete:disabled,\n",
              "  .colab-df-quickchart-complete:disabled:hover {\n",
              "    background-color: var(--disabled-bg-color);\n",
              "    fill: var(--disabled-fill-color);\n",
              "    box-shadow: none;\n",
              "  }\n",
              "\n",
              "  .colab-df-spinner {\n",
              "    border: 2px solid var(--fill-color);\n",
              "    border-color: transparent;\n",
              "    border-bottom-color: var(--fill-color);\n",
              "    animation:\n",
              "      spin 1s steps(1) infinite;\n",
              "  }\n",
              "\n",
              "  @keyframes spin {\n",
              "    0% {\n",
              "      border-color: transparent;\n",
              "      border-bottom-color: var(--fill-color);\n",
              "      border-left-color: var(--fill-color);\n",
              "    }\n",
              "    20% {\n",
              "      border-color: transparent;\n",
              "      border-left-color: var(--fill-color);\n",
              "      border-top-color: var(--fill-color);\n",
              "    }\n",
              "    30% {\n",
              "      border-color: transparent;\n",
              "      border-left-color: var(--fill-color);\n",
              "      border-top-color: var(--fill-color);\n",
              "      border-right-color: var(--fill-color);\n",
              "    }\n",
              "    40% {\n",
              "      border-color: transparent;\n",
              "      border-right-color: var(--fill-color);\n",
              "      border-top-color: var(--fill-color);\n",
              "    }\n",
              "    60% {\n",
              "      border-color: transparent;\n",
              "      border-right-color: var(--fill-color);\n",
              "    }\n",
              "    80% {\n",
              "      border-color: transparent;\n",
              "      border-right-color: var(--fill-color);\n",
              "      border-bottom-color: var(--fill-color);\n",
              "    }\n",
              "    90% {\n",
              "      border-color: transparent;\n",
              "      border-bottom-color: var(--fill-color);\n",
              "    }\n",
              "  }\n",
              "</style>\n",
              "\n",
              "  <script>\n",
              "    async function quickchart(key) {\n",
              "      const quickchartButtonEl =\n",
              "        document.querySelector('#' + key + ' button');\n",
              "      quickchartButtonEl.disabled = true;  // To prevent multiple clicks.\n",
              "      quickchartButtonEl.classList.add('colab-df-spinner');\n",
              "      try {\n",
              "        const charts = await google.colab.kernel.invokeFunction(\n",
              "            'suggestCharts', [key], {});\n",
              "      } catch (error) {\n",
              "        console.error('Error during call to suggestCharts:', error);\n",
              "      }\n",
              "      quickchartButtonEl.classList.remove('colab-df-spinner');\n",
              "      quickchartButtonEl.classList.add('colab-df-quickchart-complete');\n",
              "    }\n",
              "    (() => {\n",
              "      let quickchartButtonEl =\n",
              "        document.querySelector('#df-a6eed453-55b0-481d-afed-26800e765982 button');\n",
              "      quickchartButtonEl.style.display =\n",
              "        google.colab.kernel.accessAllowed ? 'block' : 'none';\n",
              "    })();\n",
              "  </script>\n",
              "</div>\n",
              "    </div>\n",
              "  </div>\n"
            ],
            "application/vnd.google.colaboratory.intrinsic+json": {
              "type": "dataframe",
              "variable_name": "df"
            }
          },
          "metadata": {},
          "execution_count": 74
        }
      ]
    },
    {
      "cell_type": "code",
      "source": [
        "df.info()"
      ],
      "metadata": {
        "colab": {
          "base_uri": "https://localhost:8080/"
        },
        "collapsed": true,
        "id": "7I1TGGxUI5V1",
        "outputId": "6c3288ed-a7b4-4b7a-85b0-c661f38bf23b"
      },
      "execution_count": 75,
      "outputs": [
        {
          "output_type": "stream",
          "name": "stdout",
          "text": [
            "<class 'pandas.core.frame.DataFrame'>\n",
            "RangeIndex: 2351 entries, 0 to 2350\n",
            "Data columns (total 25 columns):\n",
            " #   Column                                     Non-Null Count  Dtype  \n",
            "---  ------                                     --------------  -----  \n",
            " 0   Glucose                                    2351 non-null   float64\n",
            " 1   Cholesterol                                2351 non-null   float64\n",
            " 2   Hemoglobin                                 2351 non-null   float64\n",
            " 3   Platelets                                  2351 non-null   float64\n",
            " 4   White Blood Cells                          2351 non-null   float64\n",
            " 5   Red Blood Cells                            2351 non-null   float64\n",
            " 6   Hematocrit                                 2351 non-null   float64\n",
            " 7   Mean Corpuscular Volume                    2351 non-null   float64\n",
            " 8   Mean Corpuscular Hemoglobin                2351 non-null   float64\n",
            " 9   Mean Corpuscular Hemoglobin Concentration  2351 non-null   float64\n",
            " 10  Insulin                                    2351 non-null   float64\n",
            " 11  BMI                                        2351 non-null   float64\n",
            " 12  Systolic Blood Pressure                    2351 non-null   float64\n",
            " 13  Diastolic Blood Pressure                   2351 non-null   float64\n",
            " 14  Triglycerides                              2351 non-null   float64\n",
            " 15  HbA1c                                      2351 non-null   float64\n",
            " 16  LDL Cholesterol                            2351 non-null   float64\n",
            " 17  HDL Cholesterol                            2351 non-null   float64\n",
            " 18  ALT                                        2351 non-null   float64\n",
            " 19  AST                                        2351 non-null   float64\n",
            " 20  Heart Rate                                 2351 non-null   float64\n",
            " 21  Creatinine                                 2351 non-null   float64\n",
            " 22  Troponin                                   2351 non-null   float64\n",
            " 23  C-reactive Protein                         2351 non-null   float64\n",
            " 24  Disease                                    2351 non-null   object \n",
            "dtypes: float64(24), object(1)\n",
            "memory usage: 459.3+ KB\n"
          ]
        }
      ]
    },
    {
      "cell_type": "code",
      "source": [
        "df.isna().sum()"
      ],
      "metadata": {
        "colab": {
          "base_uri": "https://localhost:8080/"
        },
        "collapsed": true,
        "id": "IvTZgcw6KSWl",
        "outputId": "9384ad0d-555f-488e-9144-92b358ac5601"
      },
      "execution_count": 76,
      "outputs": [
        {
          "output_type": "execute_result",
          "data": {
            "text/plain": [
              "Glucose                                      0\n",
              "Cholesterol                                  0\n",
              "Hemoglobin                                   0\n",
              "Platelets                                    0\n",
              "White Blood Cells                            0\n",
              "Red Blood Cells                              0\n",
              "Hematocrit                                   0\n",
              "Mean Corpuscular Volume                      0\n",
              "Mean Corpuscular Hemoglobin                  0\n",
              "Mean Corpuscular Hemoglobin Concentration    0\n",
              "Insulin                                      0\n",
              "BMI                                          0\n",
              "Systolic Blood Pressure                      0\n",
              "Diastolic Blood Pressure                     0\n",
              "Triglycerides                                0\n",
              "HbA1c                                        0\n",
              "LDL Cholesterol                              0\n",
              "HDL Cholesterol                              0\n",
              "ALT                                          0\n",
              "AST                                          0\n",
              "Heart Rate                                   0\n",
              "Creatinine                                   0\n",
              "Troponin                                     0\n",
              "C-reactive Protein                           0\n",
              "Disease                                      0\n",
              "dtype: int64"
            ]
          },
          "metadata": {},
          "execution_count": 76
        }
      ]
    },
    {
      "cell_type": "code",
      "source": [
        "df.shape"
      ],
      "metadata": {
        "colab": {
          "base_uri": "https://localhost:8080/"
        },
        "id": "jD2QCDU0KasM",
        "outputId": "73be0e57-134a-42e4-b730-fd0053e9725a"
      },
      "execution_count": 77,
      "outputs": [
        {
          "output_type": "execute_result",
          "data": {
            "text/plain": [
              "(2351, 25)"
            ]
          },
          "metadata": {},
          "execution_count": 77
        }
      ]
    },
    {
      "cell_type": "code",
      "source": [
        "x = df.iloc[:, :-1].values\n",
        "y = df.iloc[:, -1].values"
      ],
      "metadata": {
        "id": "zoFA29-YK-BC"
      },
      "execution_count": 78,
      "outputs": []
    },
    {
      "cell_type": "code",
      "source": [
        "from sklearn.model_selection import train_test_split\n",
        "x_train, x_test, y_train, y_test = train_test_split(x, y, test_size=0.2, random_state=23)\n",
        "\n",
        "print('data training: ', x_train.shape)\n",
        "print('data testing: ', x_test.shape)"
      ],
      "metadata": {
        "colab": {
          "base_uri": "https://localhost:8080/"
        },
        "id": "3X1sDKB-LP2n",
        "outputId": "182d477b-b0f8-4e7b-f019-93398125f76a"
      },
      "execution_count": 79,
      "outputs": [
        {
          "output_type": "stream",
          "name": "stdout",
          "text": [
            "data training:  (1880, 24)\n",
            "data testing:  (471, 24)\n"
          ]
        }
      ]
    },
    {
      "cell_type": "code",
      "source": [
        "from sklearn.preprocessing import StandardScaler\n",
        "\n",
        "sc = StandardScaler()\n",
        "x_train = sc.fit_transform(x_train)\n",
        "x_test = sc.fit_transform(x_test)"
      ],
      "metadata": {
        "id": "e65hrl0oMw5L"
      },
      "execution_count": 80,
      "outputs": []
    },
    {
      "cell_type": "code",
      "source": [
        "from sklearn.decomposition import PCA\n",
        "pca = PCA()\n",
        "x_train = pca.fit_transform(x_train)\n",
        "x_test = pca.transform(x_test)"
      ],
      "metadata": {
        "id": "CT9QZ2y8NOCC"
      },
      "execution_count": 81,
      "outputs": []
    },
    {
      "cell_type": "code",
      "source": [
        "explained_variance = pca.explained_variance_ratio_\n",
        "cumulative_variance = np.cumsum(explained_variance)\n",
        "\n",
        "print('Explained Variance Ratio: ', explained_variance, '\\n')\n",
        "print('Cumulative Variance Ratio: ', cumulative_variance)"
      ],
      "metadata": {
        "colab": {
          "base_uri": "https://localhost:8080/"
        },
        "id": "ISos5IlTNsaJ",
        "outputId": "389a1dbd-bd34-434c-dbab-3d04cea60c1c"
      },
      "execution_count": 82,
      "outputs": [
        {
          "output_type": "stream",
          "name": "stdout",
          "text": [
            "Explained Variance Ratio:  [0.09174431 0.08657871 0.07938057 0.07464255 0.0715672  0.06393497\n",
            " 0.05900476 0.05414907 0.04784511 0.0445485  0.04125933 0.03695739\n",
            " 0.03638407 0.03223191 0.03013188 0.02932099 0.02102127 0.01993515\n",
            " 0.01895504 0.0163644  0.01396004 0.01199685 0.01020578 0.00788015] \n",
            "\n",
            "Cumulative Variance Ratio:  [0.09174431 0.17832302 0.25770359 0.33234614 0.40391334 0.46784831\n",
            " 0.52685307 0.58100214 0.62884725 0.67339575 0.71465508 0.75161247\n",
            " 0.78799654 0.82022845 0.85036033 0.87968132 0.90070259 0.92063774\n",
            " 0.93959278 0.95595718 0.96991722 0.98191407 0.99211985 1.        ]\n"
          ]
        }
      ]
    },
    {
      "cell_type": "code",
      "source": [
        "variance_threshold = 0.90\n",
        "n_components = np.argmax(np.cumsum(pca.explained_variance_ratio_) >= variance_threshold) + 1\n",
        "print(f'Optimal n_components: {n_components}')\n",
        "\n",
        "sum_explained_variance = np.sum (explained_variance[:n_components])\n",
        "print(sum_explained_variance)"
      ],
      "metadata": {
        "colab": {
          "base_uri": "https://localhost:8080/"
        },
        "id": "hXUS6rIqPuVL",
        "outputId": "775de2d8-2565-4577-c363-e3138f62074e"
      },
      "execution_count": 83,
      "outputs": [
        {
          "output_type": "stream",
          "name": "stdout",
          "text": [
            "Optimal n_components: 17\n",
            "0.9007025933062168\n"
          ]
        }
      ]
    },
    {
      "cell_type": "code",
      "source": [
        "pca = PCA(n_components=n_components)\n",
        "x_train = pca.fit_transform(x_train)\n",
        "x_test = pca.transform(x_test)\n",
        "\n",
        "print('data training: ', x_train.shape)\n",
        "print('data testing: ', x_test.shape)"
      ],
      "metadata": {
        "colab": {
          "base_uri": "https://localhost:8080/"
        },
        "id": "BN3qgOxWTKuT",
        "outputId": "e479a0cf-e563-4304-8293-f673dc8523c4"
      },
      "execution_count": 84,
      "outputs": [
        {
          "output_type": "stream",
          "name": "stdout",
          "text": [
            "data training:  (1880, 17)\n",
            "data testing:  (471, 17)\n"
          ]
        }
      ]
    },
    {
      "cell_type": "code",
      "source": [
        "from sklearn.ensemble import RandomForestClassifier\n",
        "\n",
        "classy = RandomForestClassifier(max_depth=2, random_state=0)\n",
        "classy.fit(x_train, y_train)\n",
        "\n",
        "y_pred = classy.predict(x_test)"
      ],
      "metadata": {
        "id": "pM1Ey1g4VjYZ"
      },
      "execution_count": 89,
      "outputs": []
    },
    {
      "cell_type": "code",
      "source": [
        "import seaborn as sb\n",
        "import matplotlib.pyplot as plt\n",
        "from sklearn.metrics import accuracy_score, confusion_matrix, classification_report\n",
        "\n",
        "accuracy = accuracy_score(y_test, y_pred)\n",
        "print(f'Accuracy: {accuracy*100:.2f}%')\n",
        "\n",
        "cm = confusion_matrix(y_test, y_pred)\n",
        "class_labels = df['Disease'].unique()\n",
        "\n",
        "plt.figure(figsize=(13, 10))\n",
        "sb.set(font_scale=1.4)\n",
        "sb.heatmap(cm, annot=True, fmt='d', cmap='Blues', xticklabels=class_labels, yticklabels=class_labels)\n",
        "plt.xlabel('Predicted Labels')\n",
        "plt.ylabel('True Labels')\n",
        "plt.title('Confusion Matrix')\n",
        "plt.show()"
      ],
      "metadata": {
        "colab": {
          "base_uri": "https://localhost:8080/",
          "height": 912
        },
        "id": "yDjJVIPAXUD7",
        "outputId": "cc563aff-4502-4731-9191-10efe9b31434"
      },
      "execution_count": 90,
      "outputs": [
        {
          "output_type": "stream",
          "name": "stdout",
          "text": [
            "Accuracy: 85.35%\n"
          ]
        },
        {
          "output_type": "display_data",
          "data": {
            "text/plain": [
              "<Figure size 1300x1000 with 2 Axes>"
            ],
            "image/png": "[encoded data removed]"
          },
          "metadata": {}
        }
      ]
    }
  ]
}